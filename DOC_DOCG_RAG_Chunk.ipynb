{
  "nbformat": 4,
  "nbformat_minor": 0,
  "metadata": {
    "colab": {
      "provenance": []
    },
    "kernelspec": {
      "name": "python3",
      "display_name": "Python 3"
    },
    "language_info": {
      "name": "python"
    },
    "widgets": {
      "application/vnd.jupyter.widget-state+json": {
        "c9484eee28ec4bb6b1ba43950a1c1d85": {
          "model_module": "@jupyter-widgets/controls",
          "model_name": "HBoxModel",
          "model_module_version": "1.5.0",
          "state": {
            "_dom_classes": [],
            "_model_module": "@jupyter-widgets/controls",
            "_model_module_version": "1.5.0",
            "_model_name": "HBoxModel",
            "_view_count": null,
            "_view_module": "@jupyter-widgets/controls",
            "_view_module_version": "1.5.0",
            "_view_name": "HBoxView",
            "box_style": "",
            "children": [
              "IPY_MODEL_60a5fecb24214a81a1fd63801dcb5caa",
              "IPY_MODEL_12b341e6f1794527856552bfd01f3cc8",
              "IPY_MODEL_923233e584c544eebf270b781cbd07fa"
            ],
            "layout": "IPY_MODEL_f85494aa6a0f45a6a7b0dd69325e6688"
          }
        },
        "60a5fecb24214a81a1fd63801dcb5caa": {
          "model_module": "@jupyter-widgets/controls",
          "model_name": "HTMLModel",
          "model_module_version": "1.5.0",
          "state": {
            "_dom_classes": [],
            "_model_module": "@jupyter-widgets/controls",
            "_model_module_version": "1.5.0",
            "_model_name": "HTMLModel",
            "_view_count": null,
            "_view_module": "@jupyter-widgets/controls",
            "_view_module_version": "1.5.0",
            "_view_name": "HTMLView",
            "description": "",
            "description_tooltip": null,
            "layout": "IPY_MODEL_e4ad4ca848dd4698a41773a255d5a5e4",
            "placeholder": "​",
            "style": "IPY_MODEL_f5517d9f25864ce4b9b4c3e7ab5b7c67",
            "value": "Batches: 100%"
          }
        },
        "12b341e6f1794527856552bfd01f3cc8": {
          "model_module": "@jupyter-widgets/controls",
          "model_name": "FloatProgressModel",
          "model_module_version": "1.5.0",
          "state": {
            "_dom_classes": [],
            "_model_module": "@jupyter-widgets/controls",
            "_model_module_version": "1.5.0",
            "_model_name": "FloatProgressModel",
            "_view_count": null,
            "_view_module": "@jupyter-widgets/controls",
            "_view_module_version": "1.5.0",
            "_view_name": "ProgressView",
            "bar_style": "success",
            "description": "",
            "description_tooltip": null,
            "layout": "IPY_MODEL_faa813b157194644a1c34118dc73759a",
            "max": 312,
            "min": 0,
            "orientation": "horizontal",
            "style": "IPY_MODEL_22a51080fc8d482e80efa1f0042f1c75",
            "value": 312
          }
        },
        "923233e584c544eebf270b781cbd07fa": {
          "model_module": "@jupyter-widgets/controls",
          "model_name": "HTMLModel",
          "model_module_version": "1.5.0",
          "state": {
            "_dom_classes": [],
            "_model_module": "@jupyter-widgets/controls",
            "_model_module_version": "1.5.0",
            "_model_name": "HTMLModel",
            "_view_count": null,
            "_view_module": "@jupyter-widgets/controls",
            "_view_module_version": "1.5.0",
            "_view_name": "HTMLView",
            "description": "",
            "description_tooltip": null,
            "layout": "IPY_MODEL_69328b5a75904ebf910b17b4417d952c",
            "placeholder": "​",
            "style": "IPY_MODEL_52d16b01793244d3bd76a73fd700c7b6",
            "value": " 312/312 [21:51&lt;00:00,  1.51s/it]"
          }
        },
        "f85494aa6a0f45a6a7b0dd69325e6688": {
          "model_module": "@jupyter-widgets/base",
          "model_name": "LayoutModel",
          "model_module_version": "1.2.0",
          "state": {
            "_model_module": "@jupyter-widgets/base",
            "_model_module_version": "1.2.0",
            "_model_name": "LayoutModel",
            "_view_count": null,
            "_view_module": "@jupyter-widgets/base",
            "_view_module_version": "1.2.0",
            "_view_name": "LayoutView",
            "align_content": null,
            "align_items": null,
            "align_self": null,
            "border": null,
            "bottom": null,
            "display": null,
            "flex": null,
            "flex_flow": null,
            "grid_area": null,
            "grid_auto_columns": null,
            "grid_auto_flow": null,
            "grid_auto_rows": null,
            "grid_column": null,
            "grid_gap": null,
            "grid_row": null,
            "grid_template_areas": null,
            "grid_template_columns": null,
            "grid_template_rows": null,
            "height": null,
            "justify_content": null,
            "justify_items": null,
            "left": null,
            "margin": null,
            "max_height": null,
            "max_width": null,
            "min_height": null,
            "min_width": null,
            "object_fit": null,
            "object_position": null,
            "order": null,
            "overflow": null,
            "overflow_x": null,
            "overflow_y": null,
            "padding": null,
            "right": null,
            "top": null,
            "visibility": null,
            "width": null
          }
        },
        "e4ad4ca848dd4698a41773a255d5a5e4": {
          "model_module": "@jupyter-widgets/base",
          "model_name": "LayoutModel",
          "model_module_version": "1.2.0",
          "state": {
            "_model_module": "@jupyter-widgets/base",
            "_model_module_version": "1.2.0",
            "_model_name": "LayoutModel",
            "_view_count": null,
            "_view_module": "@jupyter-widgets/base",
            "_view_module_version": "1.2.0",
            "_view_name": "LayoutView",
            "align_content": null,
            "align_items": null,
            "align_self": null,
            "border": null,
            "bottom": null,
            "display": null,
            "flex": null,
            "flex_flow": null,
            "grid_area": null,
            "grid_auto_columns": null,
            "grid_auto_flow": null,
            "grid_auto_rows": null,
            "grid_column": null,
            "grid_gap": null,
            "grid_row": null,
            "grid_template_areas": null,
            "grid_template_columns": null,
            "grid_template_rows": null,
            "height": null,
            "justify_content": null,
            "justify_items": null,
            "left": null,
            "margin": null,
            "max_height": null,
            "max_width": null,
            "min_height": null,
            "min_width": null,
            "object_fit": null,
            "object_position": null,
            "order": null,
            "overflow": null,
            "overflow_x": null,
            "overflow_y": null,
            "padding": null,
            "right": null,
            "top": null,
            "visibility": null,
            "width": null
          }
        },
        "f5517d9f25864ce4b9b4c3e7ab5b7c67": {
          "model_module": "@jupyter-widgets/controls",
          "model_name": "DescriptionStyleModel",
          "model_module_version": "1.5.0",
          "state": {
            "_model_module": "@jupyter-widgets/controls",
            "_model_module_version": "1.5.0",
            "_model_name": "DescriptionStyleModel",
            "_view_count": null,
            "_view_module": "@jupyter-widgets/base",
            "_view_module_version": "1.2.0",
            "_view_name": "StyleView",
            "description_width": ""
          }
        },
        "faa813b157194644a1c34118dc73759a": {
          "model_module": "@jupyter-widgets/base",
          "model_name": "LayoutModel",
          "model_module_version": "1.2.0",
          "state": {
            "_model_module": "@jupyter-widgets/base",
            "_model_module_version": "1.2.0",
            "_model_name": "LayoutModel",
            "_view_count": null,
            "_view_module": "@jupyter-widgets/base",
            "_view_module_version": "1.2.0",
            "_view_name": "LayoutView",
            "align_content": null,
            "align_items": null,
            "align_self": null,
            "border": null,
            "bottom": null,
            "display": null,
            "flex": null,
            "flex_flow": null,
            "grid_area": null,
            "grid_auto_columns": null,
            "grid_auto_flow": null,
            "grid_auto_rows": null,
            "grid_column": null,
            "grid_gap": null,
            "grid_row": null,
            "grid_template_areas": null,
            "grid_template_columns": null,
            "grid_template_rows": null,
            "height": null,
            "justify_content": null,
            "justify_items": null,
            "left": null,
            "margin": null,
            "max_height": null,
            "max_width": null,
            "min_height": null,
            "min_width": null,
            "object_fit": null,
            "object_position": null,
            "order": null,
            "overflow": null,
            "overflow_x": null,
            "overflow_y": null,
            "padding": null,
            "right": null,
            "top": null,
            "visibility": null,
            "width": null
          }
        },
        "22a51080fc8d482e80efa1f0042f1c75": {
          "model_module": "@jupyter-widgets/controls",
          "model_name": "ProgressStyleModel",
          "model_module_version": "1.5.0",
          "state": {
            "_model_module": "@jupyter-widgets/controls",
            "_model_module_version": "1.5.0",
            "_model_name": "ProgressStyleModel",
            "_view_count": null,
            "_view_module": "@jupyter-widgets/base",
            "_view_module_version": "1.2.0",
            "_view_name": "StyleView",
            "bar_color": null,
            "description_width": ""
          }
        },
        "69328b5a75904ebf910b17b4417d952c": {
          "model_module": "@jupyter-widgets/base",
          "model_name": "LayoutModel",
          "model_module_version": "1.2.0",
          "state": {
            "_model_module": "@jupyter-widgets/base",
            "_model_module_version": "1.2.0",
            "_model_name": "LayoutModel",
            "_view_count": null,
            "_view_module": "@jupyter-widgets/base",
            "_view_module_version": "1.2.0",
            "_view_name": "LayoutView",
            "align_content": null,
            "align_items": null,
            "align_self": null,
            "border": null,
            "bottom": null,
            "display": null,
            "flex": null,
            "flex_flow": null,
            "grid_area": null,
            "grid_auto_columns": null,
            "grid_auto_flow": null,
            "grid_auto_rows": null,
            "grid_column": null,
            "grid_gap": null,
            "grid_row": null,
            "grid_template_areas": null,
            "grid_template_columns": null,
            "grid_template_rows": null,
            "height": null,
            "justify_content": null,
            "justify_items": null,
            "left": null,
            "margin": null,
            "max_height": null,
            "max_width": null,
            "min_height": null,
            "min_width": null,
            "object_fit": null,
            "object_position": null,
            "order": null,
            "overflow": null,
            "overflow_x": null,
            "overflow_y": null,
            "padding": null,
            "right": null,
            "top": null,
            "visibility": null,
            "width": null
          }
        },
        "52d16b01793244d3bd76a73fd700c7b6": {
          "model_module": "@jupyter-widgets/controls",
          "model_name": "DescriptionStyleModel",
          "model_module_version": "1.5.0",
          "state": {
            "_model_module": "@jupyter-widgets/controls",
            "_model_module_version": "1.5.0",
            "_model_name": "DescriptionStyleModel",
            "_view_count": null,
            "_view_module": "@jupyter-widgets/base",
            "_view_module_version": "1.2.0",
            "_view_name": "StyleView",
            "description_width": ""
          }
        }
      }
    }
  },
  "cells": [
    {
      "cell_type": "markdown",
      "source": [
        "### Initial Setup"
      ],
      "metadata": {
        "id": "rBtDRo68VhEi"
      }
    },
    {
      "cell_type": "code",
      "execution_count": 1,
      "metadata": {
        "id": "MlGoNbZBVfXD"
      },
      "outputs": [],
      "source": [
        "!pip install pymupdf faiss-cpu sentence-transformers openai>=1.0.0"
      ]
    },
    {
      "cell_type": "markdown",
      "source": [
        "### Import Libraries"
      ],
      "metadata": {
        "id": "nBsuko12nBNW"
      }
    },
    {
      "cell_type": "code",
      "source": [
        "from google.colab import drive\n",
        "import os\n",
        "import fitz\n",
        "import faiss\n",
        "import numpy as np\n",
        "import json\n",
        "from sentence_transformers import SentenceTransformer\n",
        "from openai import OpenAI"
      ],
      "metadata": {
        "id": "p_GOCtkka9EC"
      },
      "execution_count": 2,
      "outputs": []
    },
    {
      "cell_type": "markdown",
      "source": [
        "### Save OpenAI Key"
      ],
      "metadata": {
        "id": "9WtN5aEJnOPj"
      }
    },
    {
      "cell_type": "code",
      "source": [
        "client = OpenAI(api_key=\"\")\n",
        "\n"
      ],
      "metadata": {
        "id": "3NryvLUJa4FD"
      },
      "execution_count": 3,
      "outputs": []
    },
    {
      "cell_type": "markdown",
      "source": [
        "### Mount Google Drive where all pdf are saved"
      ],
      "metadata": {
        "id": "bCt1ubZPnTlR"
      }
    },
    {
      "cell_type": "code",
      "source": [
        "drive.mount('/content/drive')"
      ],
      "metadata": {
        "id": "vmrGgxzSWMNW",
        "colab": {
          "base_uri": "https://localhost:8080/"
        },
        "outputId": "dbb21d77-0785-48ba-a2e5-de11434a05e1"
      },
      "execution_count": 4,
      "outputs": [
        {
          "output_type": "stream",
          "name": "stdout",
          "text": [
            "Drive already mounted at /content/drive; to attempt to forcibly remount, call drive.mount(\"/content/drive\", force_remount=True).\n"
          ]
        }
      ]
    },
    {
      "cell_type": "markdown",
      "source": [
        "### create Function to extract text from pdf"
      ],
      "metadata": {
        "id": "6_mobd79nb2h"
      }
    },
    {
      "cell_type": "code",
      "source": [
        "'''\n",
        "def estrai_testo_pdf_con_chunking(cartella, chunk_size=200):\n",
        "    chunks = []\n",
        "    metadati = []\n",
        "    for nome_file in os.listdir(cartella):\n",
        "        if nome_file.endswith(\".pdf\"):\n",
        "            path = os.path.join(cartella, nome_file)\n",
        "            doc = fitz.open(path)\n",
        "            testo = \"\"\n",
        "            for pagina in doc:\n",
        "                testo += pagina.get_text()\n",
        "            parole = testo.split()\n",
        "            for i in range(0, len(parole), chunk_size):\n",
        "                chunk = \" \".join(parole[i:i + chunk_size])\n",
        "                chunks.append(chunk)\n",
        "                metadati.append({\n",
        "                    \"file\": nome_file,\n",
        "                    \"inizio\": i,\n",
        "                    \"fine\": i + chunk_size\n",
        "                })\n",
        "    return chunks, metadati\n",
        "'''\n",
        "def estrai_testo_pdf_con_chunking(cartella, chunk_size=200):\n",
        "    chunks = []\n",
        "    metadati = []\n",
        "    for nome_file in os.listdir(cartella):\n",
        "        if nome_file.endswith(\".pdf\"):\n",
        "            path = os.path.join(cartella, nome_file)\n",
        "            doc = fitz.open(path)\n",
        "            testo = \"\"\n",
        "            for pagina in doc:\n",
        "                testo += pagina.get_text()\n",
        "            parole = testo.split()\n",
        "            for i in range(0, len(parole), chunk_size):\n",
        "                chunk = \" \".join(parole[i:i + chunk_size])\n",
        "                # Inseriamo il nome del file come prefisso nel testo stesso\n",
        "                chunk_con_titolo = f\"[{nome_file}]\\n{chunk}\"\n",
        "                chunks.append(chunk_con_titolo)\n",
        "                metadati.append({\n",
        "                    \"file\": nome_file,\n",
        "                    \"inizio\": i,\n",
        "                    \"fine\": i + chunk_size\n",
        "                })\n",
        "    return chunks, metadati\n"
      ],
      "metadata": {
        "id": "rGzuoKn0XDlv"
      },
      "execution_count": 63,
      "outputs": []
    },
    {
      "cell_type": "markdown",
      "source": [
        "### Execute function to extract text"
      ],
      "metadata": {
        "id": "Ag8Q5gSgnoz5"
      }
    },
    {
      "cell_type": "code",
      "source": [
        "CARTELLA_DISCIPLINARI = '/content/drive/MyDrive/DOC_DOCG'\n",
        "\n",
        "chunks, metadati = estrai_testo_pdf_con_chunking(CARTELLA_DISCIPLINARI)\n",
        "print(f\"🧩 Totale chunk estratti: {len(chunks)}\")\n",
        "\n",
        "path = \"/content/drive/MyDrive/DOC_DOCG/Dati/chunks_chunked.json\"\n",
        "\n",
        "# Salvataggio in JSON\n",
        "with open(path, \"w\", encoding=\"utf-8\") as f:\n",
        "    json.dump(chunks, f, ensure_ascii=False, indent=2)\n",
        "\n",
        "print(f\"✅ File salvato: {path}\")"
      ],
      "metadata": {
        "colab": {
          "base_uri": "https://localhost:8080/"
        },
        "id": "Tz26ZyALbysz",
        "outputId": "1b06daf6-e134-432d-9ff4-2b2272fc30bc"
      },
      "execution_count": 71,
      "outputs": [
        {
          "output_type": "stream",
          "name": "stdout",
          "text": [
            "🧩 Totale chunk estratti: 9959\n",
            "✅ File salvato: /content/drive/MyDrive/DOC_DOCG/Dati/chunks_chunked.json\n"
          ]
        }
      ]
    },
    {
      "cell_type": "markdown",
      "source": [
        "### Embedding Generation and FAISS Index creation"
      ],
      "metadata": {
        "id": "CvCEjZIsn8gh"
      }
    },
    {
      "cell_type": "code",
      "source": [
        "model = SentenceTransformer('all-MiniLM-L6-v2')\n",
        "\n",
        "embedding = model.encode(chunks, show_progress_bar=True)\n",
        "\n",
        "index = faiss.IndexFlatL2(embedding[0].shape[0])\n",
        "index.add(np.array(embedding))"
      ],
      "metadata": {
        "id": "6cTUiWcZcNI6",
        "colab": {
          "base_uri": "https://localhost:8080/",
          "height": 49,
          "referenced_widgets": [
            "c9484eee28ec4bb6b1ba43950a1c1d85",
            "60a5fecb24214a81a1fd63801dcb5caa",
            "12b341e6f1794527856552bfd01f3cc8",
            "923233e584c544eebf270b781cbd07fa",
            "f85494aa6a0f45a6a7b0dd69325e6688",
            "e4ad4ca848dd4698a41773a255d5a5e4",
            "f5517d9f25864ce4b9b4c3e7ab5b7c67",
            "faa813b157194644a1c34118dc73759a",
            "22a51080fc8d482e80efa1f0042f1c75",
            "69328b5a75904ebf910b17b4417d952c",
            "52d16b01793244d3bd76a73fd700c7b6"
          ]
        },
        "outputId": "3cc326db-a57b-4d54-9af0-ecbbf0bfa48e"
      },
      "execution_count": 65,
      "outputs": [
        {
          "output_type": "display_data",
          "data": {
            "text/plain": [
              "Batches:   0%|          | 0/312 [00:00<?, ?it/s]"
            ],
            "application/vnd.jupyter.widget-view+json": {
              "version_major": 2,
              "version_minor": 0,
              "model_id": "c9484eee28ec4bb6b1ba43950a1c1d85"
            }
          },
          "metadata": {}
        }
      ]
    },
    {
      "cell_type": "markdown",
      "source": [
        "### Index and Metadata Saving"
      ],
      "metadata": {
        "id": "VA_0Gt4goLVu"
      }
    },
    {
      "cell_type": "code",
      "source": [
        "\n",
        "\n",
        "faiss.write_index(index, \"/content/drive/MyDrive/DOC_DOCG/Dati/index_chunked.faiss\")\n",
        "with open(\"/content/drive/MyDrive/DOC_DOCG/Dati/metadata_chunked.json\", \"w\") as f:\n",
        "    json.dump(metadati, f)"
      ],
      "metadata": {
        "id": "RfsHqo6TclT6"
      },
      "execution_count": 66,
      "outputs": []
    },
    {
      "cell_type": "markdown",
      "source": [
        "### Upload Faiss Index"
      ],
      "metadata": {
        "id": "pi-SYOu50kTg"
      }
    },
    {
      "cell_type": "code",
      "source": [
        "# Carica FAISS index\n",
        "index = faiss.read_index(\"/content/drive/MyDrive/DOC_DOCG/Dati/index_chunked.faiss\")\n",
        "\n",
        "# Carica i metadati e i chunk\n",
        "with open(\"/content/drive/MyDrive/DOC_DOCG/Dati/metadata_chunked.json\", \"r\") as f:\n",
        "    metadati = json.load(f)"
      ],
      "metadata": {
        "id": "v7468teh0r2O"
      },
      "execution_count": null,
      "outputs": []
    },
    {
      "cell_type": "markdown",
      "source": [
        "### Searching and Answer Function with RAG"
      ],
      "metadata": {
        "id": "-jnUnjmqoT6k"
      }
    },
    {
      "cell_type": "code",
      "source": [
        "def query_rag_chunk(domanda, top_k=3):\n",
        "    emb_domanda = model.encode([domanda])\n",
        "    distanze, indici = index.search(np.array(emb_domanda), top_k)\n",
        "    contesti = [chunks[i] for i in indici[0]]\n",
        "    fonti = [metadati[i]['file'] for i in indici[0]]\n",
        "    return \"\\n\\n\".join(contesti), fonti\n"
      ],
      "metadata": {
        "id": "qOO9SKwEdUvb"
      },
      "execution_count": 67,
      "outputs": []
    },
    {
      "cell_type": "markdown",
      "source": [
        "### Question Example"
      ],
      "metadata": {
        "id": "-m3-kgAqoawr"
      }
    },
    {
      "cell_type": "code",
      "source": [
        "domanda_vitigni = \"Quali sono i vitigni ammessi nella DOCG Chianti? puoi rispondere solo con un elenco dei vitigni divisi per tipologia? puoi indicare la percentuale massima e se presente la minima? puoi scriverlo come fosse un file JSON?\"\n",
        "domanda_tipologie = \"Quali tipologie sono ammesse nella DOC Trento? puoi rispondere solo con un elenco delle tipologie? puoi scriverlo come fosse un file JSON?\"\n",
        "domanda_generica = \"quali DOC hanno nel loro disciplinare le MGA? puoi r4aggrupparle in un'elenco?\"\n",
        "\n",
        "domanda = domanda_vitigni\n",
        "\n",
        "contesto, fonti = query_rag_chunk(domanda, top_k=3)\n",
        "\n",
        "MAX_TOKEN_ESTIMATO = 3000  # in media 1 token ≈ 4 caratteri\n",
        "if len(contesto) > MAX_TOKEN_ESTIMATO * 4:\n",
        "    contesto = contesto[:MAX_TOKEN_ESTIMATO * 4]\n",
        "\n",
        "response = client.chat.completions.create(\n",
        "    model=\"gpt-4\",\n",
        "    messages=[\n",
        "        {\"role\": \"system\", \"content\": \"Sei un esperto di disciplinari del vino italiano.\"},\n",
        "        {\"role\": \"user\", \"content\": f\"Domanda: {domanda}\\n\\nContesto:\\n{contesto}\"}\n",
        "    ]\n",
        ")\n",
        "\n",
        "print(response.choices[0].message.content)"
      ],
      "metadata": {
        "colab": {
          "base_uri": "https://localhost:8080/"
        },
        "id": "LyXC5i-DdbJR",
        "outputId": "98239de2-ef4d-444d-b9f6-b70ecbe5c85d"
      },
      "execution_count": 68,
      "outputs": [
        {
          "output_type": "stream",
          "name": "stdout",
          "text": [
            "{\n",
            "  \"vini_bianchi\": [],\n",
            "  \"vini_rossi\": [\n",
            "    { \n",
            "      \"vitigno\": \"Sangiovese\",\n",
            "      \"percentuale_massima\": 100,\n",
            "      \"percentuale_minima\": 70\n",
            "    },\n",
            "    {\n",
            "      \"vitigno\": \"Canaiolo nero\",\n",
            "      \"percentuale_massima\": 30,\n",
            "      \"percentuale_minima\": 0\n",
            "    },\n",
            "    {\n",
            "      \"vitigno\": \"Trebbiano Toscano e Malvasia del Chianti\",\n",
            "      \"percentuale_massima\": 10,\n",
            "      \"percentuale_minima\": 0\n",
            "    },\n",
            "    {\n",
            "      \"vitigno\": \"Colorino, Cabernet Sauvignon, Merlot\",\n",
            "      \"percentuale_massima\": 20,\n",
            "      \"percentuale_minima\": 0\n",
            "    }\n",
            "  ],\n",
            "  \"vini_rosati\": [],\n",
            "  \"vin_spassiti\": [],\n",
            "  \"vini_muffati\": [],\n",
            "  \"vini_frizzanti\": [],\n",
            "  \"vini_spumanti\": [],\n",
            "  \"altro\": []\n",
            "}\n"
          ]
        }
      ]
    }
  ]
}