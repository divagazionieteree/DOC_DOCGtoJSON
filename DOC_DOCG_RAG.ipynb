{
  "nbformat": 4,
  "nbformat_minor": 0,
  "metadata": {
    "colab": {
      "provenance": [],
      "mount_file_id": "18Z__XaJfjHJlZcjaNkYmx_SYkNZF48IK",
      "authorship_tag": "ABX9TyN+xqZjcJifmqlgohezbyEH",
      "include_colab_link": true
    },
    "kernelspec": {
      "name": "python3",
      "display_name": "Python 3"
    },
    "language_info": {
      "name": "python"
    }
  },
  "cells": [
    {
      "cell_type": "markdown",
      "metadata": {
        "id": "view-in-github",
        "colab_type": "text"
      },
      "source": [
        "<a href=\"https://colab.research.google.com/github/divagazionieteree/DOC_DOCGtoJSON/blob/main/DOC_DOCG_RAG.ipynb\" target=\"_parent\"><img src=\"https://colab.research.google.com/assets/colab-badge.svg\" alt=\"Open In Colab\"/></a>"
      ]
    },
    {
      "cell_type": "markdown",
      "source": [
        "### DOC DOCG RAG"
      ],
      "metadata": {
        "id": "rBtDRo68VhEi"
      }
    },
    {
      "cell_type": "code",
      "execution_count": null,
      "metadata": {
        "id": "MlGoNbZBVfXD"
      },
      "outputs": [],
      "source": [
        "!pip install pymupdf faiss-cpu sentence-transformers"
      ]
    },
    {
      "cell_type": "code",
      "source": [
        "!pip install openai>=1.0.0"
      ],
      "metadata": {
        "id": "Dyc06Es3ektt"
      },
      "execution_count": 2,
      "outputs": []
    },
    {
      "cell_type": "code",
      "source": [
        "from google.colab import drive\n",
        "import os\n",
        "import fitz\n",
        "import faiss\n",
        "import numpy as np\n",
        "import json\n",
        "from sentence_transformers import SentenceTransformer\n",
        "from openai import OpenAI"
      ],
      "metadata": {
        "id": "p_GOCtkka9EC"
      },
      "execution_count": 3,
      "outputs": []
    },
    {
      "cell_type": "code",
      "source": [
        "client = OpenAI(api_key=\"YOUR-API-KEY\")\n"
      ],
      "metadata": {
        "id": "3NryvLUJa4FD"
      },
      "execution_count": 4,
      "outputs": []
    },
    {
      "cell_type": "code",
      "source": [
        "drive.mount('/content/drive')"
      ],
      "metadata": {
        "id": "vmrGgxzSWMNW"
      },
      "execution_count": null,
      "outputs": []
    },
    {
      "cell_type": "code",
      "source": [
        "def estrai_testo_pdf(cartella):\n",
        "    testi = {}\n",
        "    for nome_file in os.listdir(cartella):\n",
        "        if nome_file.endswith(\".pdf\"):\n",
        "            path = os.path.join(cartella, nome_file)\n",
        "            doc = fitz.open(path)\n",
        "            testo = \"\"\n",
        "            for pagina in doc:\n",
        "                testo += pagina.get_text()\n",
        "            testi[nome_file] = testo\n",
        "    return testi"
      ],
      "metadata": {
        "id": "rGzuoKn0XDlv"
      },
      "execution_count": 6,
      "outputs": []
    },
    {
      "cell_type": "code",
      "source": [
        "CARTELLA_DISCIPLINARI = '/content/drive/MyDrive/DOC_DOCG'\n",
        "testi_pdf = estrai_testo_pdf(CARTELLA_DISCIPLINARI)\n",
        "nomi_file = list(testi_pdf.keys())\n",
        "corpus = list(testi_pdf.values())\n",
        "print(f\"📝 Trovati {len(corpus)} disciplinari\")"
      ],
      "metadata": {
        "colab": {
          "base_uri": "https://localhost:8080/"
        },
        "id": "Tz26ZyALbysz",
        "outputId": "410fbe11-0f09-4dcb-d64c-f8bf9e938d67"
      },
      "execution_count": 7,
      "outputs": [
        {
          "output_type": "stream",
          "name": "stdout",
          "text": [
            "📝 Trovati 410 disciplinari\n"
          ]
        }
      ]
    },
    {
      "cell_type": "code",
      "source": [
        "model = SentenceTransformer('all-MiniLM-L6-v2')\n",
        "embedding = model.encode(corpus, show_progress_bar=True)\n",
        "\n",
        "index = faiss.IndexFlatL2(embedding[0].shape[0])\n",
        "index.add(np.array(embedding))\n",
        "print(\"✅ Indice FAISS creato.\")"
      ],
      "metadata": {
        "id": "6cTUiWcZcNI6"
      },
      "execution_count": null,
      "outputs": []
    },
    {
      "cell_type": "code",
      "source": [
        "faiss.write_index(index, \"/content/drive/MyDrive/DOC_DOCG/Dati/index_dati.faiss\")\n",
        "with open(\"/content/drive/MyDrive/DOC_DOCG/Dati/metadata.json\", \"w\") as f:\n",
        "    json.dump(nomi_file, f)"
      ],
      "metadata": {
        "id": "RfsHqo6TclT6"
      },
      "execution_count": 9,
      "outputs": []
    },
    {
      "cell_type": "code",
      "source": [
        "def query_rag(domanda, top_k=3):\n",
        "    emb_domanda = model.encode([domanda])\n",
        "    distanze, indici = index.search(np.array(emb_domanda), top_k)\n",
        "    contesti = [corpus[i] for i in indici[0]]\n",
        "    fonti = [nomi_file[i] for i in indici[0]]\n",
        "    return \"\\n\\n\".join(contesti), fonti"
      ],
      "metadata": {
        "id": "qOO9SKwEdUvb"
      },
      "execution_count": 10,
      "outputs": []
    },
    {
      "cell_type": "code",
      "source": [
        "domanda_vitigni = \"Quali sono i vitigni ammessi nella DOCG Chianti Classico? puoi rispondere solo con un elenco dei vitigni? puoi indicare la percentuale massima e se presente la minima?\"\n",
        "domanda_tipologie = \"Quali tipologie sono ammesse nella DOCG barolo? puoi rispondere solo con un elenco delle tipologie?\"\n",
        "contesto, fonti = query_rag(domanda_tipologie, top_k=1)\n",
        "\n",
        "response = client.chat.completions.create(\n",
        "    model=\"gpt-3.5-turbo\",\n",
        "    messages=[\n",
        "        {\"role\": \"system\", \"content\": \"Sei un esperto di disciplinari del vino italiano.\"},\n",
        "        {\"role\": \"user\", \"content\": f\"Domanda: {domanda_tipologie}\\n\\nContesto:\\n{contesto}\"}\n",
        "    ]\n",
        ")\n",
        "\n",
        "print(response.choices[0].message.content)"
      ],
      "metadata": {
        "colab": {
          "base_uri": "https://localhost:8080/"
        },
        "id": "LyXC5i-DdbJR",
        "outputId": "938a853c-903a-40f5-d706-8bd543b43c65"
      },
      "execution_count": 29,
      "outputs": [
        {
          "output_type": "stream",
          "name": "stdout",
          "text": [
            "- Barolo\n",
            "- Barolo riserva\n",
            "- Barolo con menzione geografica aggiuntiva\n"
          ]
        }
      ]
    }
  ]
}